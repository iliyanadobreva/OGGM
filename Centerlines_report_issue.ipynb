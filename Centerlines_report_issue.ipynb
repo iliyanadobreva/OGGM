{
 "cells": [
  {
   "cell_type": "code",
   "execution_count": 1,
   "metadata": {},
   "outputs": [],
   "source": [
    "import geopandas as gpd\n",
    "\n",
    "import oggm\n",
    "\n",
    "from oggm import cfg, tasks, graphics\n",
    "\n",
    "from oggm.utils import get_demo_file\n",
    "\n",
    "from oggm import utils, workflow\n",
    "\n",
    "\n",
    "import os"
   ]
  },
  {
   "cell_type": "code",
   "execution_count": 2,
   "metadata": {},
   "outputs": [
    {
     "name": "stderr",
     "output_type": "stream",
     "text": [
      "2018-04-09 12:14:08: oggm.cfg: Parameter file: C:\\Anaconda2\\envs\\oggm_env\\lib\\site-packages\\oggm\\params.cfg\n"
     ]
    }
   ],
   "source": [
    "# Initialize OGGM and set up the default run parameters\n",
    "cfg.initialize()\n",
    "rgi_version = '6'\n",
    "rgi_region = '14'  # Himalaya, Karakoram\n",
    "\n"
   ]
  },
  {
   "cell_type": "code",
   "execution_count": 3,
   "metadata": {},
   "outputs": [
    {
     "name": "stderr",
     "output_type": "stream",
     "text": [
      "2018-04-09 12:14:08: oggm.core.gis: (RGI60-14.03405) define_glacier_region\n",
      "2018-04-09 12:14:09: oggm.core.gis: CRSError occurred during task define_glacier_region on RGI60-14.03405: Invalid CRS\n"
     ]
    },
    {
     "ename": "CRSError",
     "evalue": "Invalid CRS",
     "output_type": "error",
     "traceback": [
      "\u001b[1;31m---------------------------------------------------------------------------\u001b[0m",
      "\u001b[1;31mCPLE_OpenFailed\u001b[0m                           Traceback (most recent call last)",
      "\u001b[1;32mrasterio/_base.pyx\u001b[0m in \u001b[0;36mrasterio._base._osr_from_crs (rasterio/_base.c:20066)\u001b[1;34m()\u001b[0m\n",
      "\u001b[1;32mrasterio/_base.pyx\u001b[0m in \u001b[0;36mrasterio._base._osr_from_crs (rasterio/_base.c:20018)\u001b[1;34m()\u001b[0m\n",
      "\u001b[1;32mrasterio/_err.pyx\u001b[0m in \u001b[0;36mrasterio._err.CPLErrors.check (rasterio/_err.c:1773)\u001b[1;34m()\u001b[0m\n",
      "\u001b[1;31mCPLE_OpenFailed\u001b[0m: Unable to open EPSG support file gcs.csv. Try setting the GDAL_DATA environment variable to point to the directory containing EPSG csv files.",
      "\nDuring handling of the above exception, another exception occurred:\n",
      "\u001b[1;31mCRSError\u001b[0m                                  Traceback (most recent call last)",
      "\u001b[1;32m<ipython-input-3-cf109af11a68>\u001b[0m in \u001b[0;36m<module>\u001b[1;34m()\u001b[0m\n\u001b[0;32m    122\u001b[0m \u001b[0mcfg\u001b[0m\u001b[1;33m.\u001b[0m\u001b[0mPARAMS\u001b[0m\u001b[1;33m[\u001b[0m\u001b[1;34m'use_intersects'\u001b[0m\u001b[1;33m]\u001b[0m \u001b[1;33m=\u001b[0m \u001b[1;32mFalse\u001b[0m\u001b[1;33m\u001b[0m\u001b[0m\n\u001b[0;32m    123\u001b[0m \u001b[1;33m\u001b[0m\u001b[0m\n\u001b[1;32m--> 124\u001b[1;33m \u001b[0mtasks\u001b[0m\u001b[1;33m.\u001b[0m\u001b[0mdefine_glacier_region\u001b[0m\u001b[1;33m(\u001b[0m\u001b[0mgdir\u001b[0m\u001b[1;33m,\u001b[0m \u001b[0mentity\u001b[0m\u001b[1;33m=\u001b[0m\u001b[0mentity\u001b[0m\u001b[1;33m)\u001b[0m\u001b[1;33m\u001b[0m\u001b[0m\n\u001b[0m\u001b[0;32m    125\u001b[0m \u001b[1;33m\u001b[0m\u001b[0m\n\u001b[0;32m    126\u001b[0m \u001b[0mtasks\u001b[0m\u001b[1;33m.\u001b[0m\u001b[0mglacier_masks\u001b[0m\u001b[1;33m(\u001b[0m\u001b[0mgdir\u001b[0m\u001b[1;33m)\u001b[0m\u001b[1;33m\u001b[0m\u001b[0m\n",
      "\u001b[1;32mC:\\Anaconda2\\envs\\oggm_env\\lib\\site-packages\\oggm\\utils.py\u001b[0m in \u001b[0;36m_entity_task\u001b[1;34m(gdir, reset, print_log, **kwargs)\u001b[0m\n\u001b[0;32m   2442\u001b[0m             \u001b[1;31m# Run the task\u001b[0m\u001b[1;33m\u001b[0m\u001b[1;33m\u001b[0m\u001b[0m\n\u001b[0;32m   2443\u001b[0m             \u001b[1;32mtry\u001b[0m\u001b[1;33m:\u001b[0m\u001b[1;33m\u001b[0m\u001b[0m\n\u001b[1;32m-> 2444\u001b[1;33m                 \u001b[0mout\u001b[0m \u001b[1;33m=\u001b[0m \u001b[0mtask_func\u001b[0m\u001b[1;33m(\u001b[0m\u001b[0mgdir\u001b[0m\u001b[1;33m,\u001b[0m \u001b[1;33m**\u001b[0m\u001b[0mkwargs\u001b[0m\u001b[1;33m)\u001b[0m\u001b[1;33m\u001b[0m\u001b[0m\n\u001b[0m\u001b[0;32m   2445\u001b[0m                 \u001b[0mgdir\u001b[0m\u001b[1;33m.\u001b[0m\u001b[0mlog\u001b[0m\u001b[1;33m(\u001b[0m\u001b[0mtask_name\u001b[0m\u001b[1;33m)\u001b[0m\u001b[1;33m\u001b[0m\u001b[0m\n\u001b[0;32m   2446\u001b[0m             \u001b[1;32mexcept\u001b[0m \u001b[0mException\u001b[0m \u001b[1;32mas\u001b[0m \u001b[0merr\u001b[0m\u001b[1;33m:\u001b[0m\u001b[1;33m\u001b[0m\u001b[0m\n",
      "\u001b[1;32mC:\\Anaconda2\\envs\\oggm_env\\lib\\site-packages\\oggm\\core\\gis.py\u001b[0m in \u001b[0;36mdefine_glacier_region\u001b[1;34m(gdir, entity)\u001b[0m\n\u001b[0;32m    355\u001b[0m             \u001b[0mdst_crs\u001b[0m\u001b[1;33m=\u001b[0m\u001b[0mproj4_str\u001b[0m\u001b[1;33m,\u001b[0m\u001b[1;33m\u001b[0m\u001b[0m\n\u001b[0;32m    356\u001b[0m             \u001b[1;31m# Configuration\u001b[0m\u001b[1;33m\u001b[0m\u001b[1;33m\u001b[0m\u001b[0m\n\u001b[1;32m--> 357\u001b[1;33m             resampling=resampling)\n\u001b[0m\u001b[0;32m    358\u001b[0m \u001b[1;33m\u001b[0m\u001b[0m\n\u001b[0;32m    359\u001b[0m         \u001b[0mdest\u001b[0m\u001b[1;33m.\u001b[0m\u001b[0mwrite\u001b[0m\u001b[1;33m(\u001b[0m\u001b[0mdst_array\u001b[0m\u001b[1;33m,\u001b[0m \u001b[1;36m1\u001b[0m\u001b[1;33m)\u001b[0m\u001b[1;33m\u001b[0m\u001b[0m\n",
      "\u001b[1;32mC:\\Anaconda2\\envs\\oggm_env\\lib\\site-packages\\rasterio\\warp.py\u001b[0m in \u001b[0;36mreproject\u001b[1;34m(source, destination, src_transform, src_crs, src_nodata, dst_transform, dst_crs, dst_nodata, resampling, **kwargs)\u001b[0m\n\u001b[0;32m    274\u001b[0m         \u001b[0mdst_nodata\u001b[0m\u001b[1;33m,\u001b[0m\u001b[1;33m\u001b[0m\u001b[0m\n\u001b[0;32m    275\u001b[0m         \u001b[0mresampling\u001b[0m\u001b[1;33m,\u001b[0m\u001b[1;33m\u001b[0m\u001b[0m\n\u001b[1;32m--> 276\u001b[1;33m         **kwargs)\n\u001b[0m\u001b[0;32m    277\u001b[0m \u001b[1;33m\u001b[0m\u001b[0m\n\u001b[0;32m    278\u001b[0m \u001b[1;33m\u001b[0m\u001b[0m\n",
      "\u001b[1;32mrasterio/_warp.pyx\u001b[0m in \u001b[0;36mrasterio._warp._reproject (rasterio/_warp.cpp:6457)\u001b[1;34m()\u001b[0m\n",
      "\u001b[1;32mrasterio/_base.pyx\u001b[0m in \u001b[0;36mrasterio._base._osr_from_crs (rasterio/_base.c:20157)\u001b[1;34m()\u001b[0m\n",
      "\u001b[1;31mCRSError\u001b[0m: Invalid CRS"
     ]
    }
   ],
   "source": [
    "\n",
    "namepart = '03405' #e\n",
    "#namepart = '03439' #e\n",
    "#namepart = '03869' #e\n",
    "#namepart = '04068' #e\n",
    "#namepart = '04477' #e\n",
    "#namepart = '00032' #e\n",
    "#namepart = '04531' #e\n",
    "#namepart = '04638' #e\n",
    "#namepart = '04872' #e\n",
    "#namepart = '04945' #e\n",
    "\n",
    "\n",
    "cfg.PATHS['working_dir'] = 'C:\\workspace\\RGI60-14.' + namepart  # working directory\n",
    "\n",
    "cfg.dem_file = 'dem.tif'\n",
    "\n",
    "\n",
    "entity = gpd.GeoDataFrame.from_file('C:\\workspace\\RGI60-14.' + namepart).iloc[0]\n",
    "gdir = oggm.GlacierDirectory(entity)\n",
    "\n",
    "# fill the directory with data and derive flowlines\n",
    "cfg.PARAMS['use_intersects'] = False \n",
    "\n",
    "tasks.define_glacier_region(gdir, entity=entity)\n",
    " \n",
    "tasks.glacier_masks(gdir)\n",
    "\n",
    "tasks.compute_centerlines(gdir)\n",
    "\n",
    "tasks.initialize_flowlines(gdir)\n",
    "\n",
    "#save\n",
    "gdirs = [gdir]\n",
    "utils.write_centerlines_to_shape(gdirs, filesuffix='_' + namepart, path=True)"
   ]
  }
 ],
 "metadata": {
  "kernelspec": {
   "display_name": "Python 3",
   "language": "python",
   "name": "python3"
  },
  "language_info": {
   "codemirror_mode": {
    "name": "ipython",
    "version": 3
   },
   "file_extension": ".py",
   "mimetype": "text/x-python",
   "name": "python",
   "nbconvert_exporter": "python",
   "pygments_lexer": "ipython3",
   "version": "3.6.5"
  }
 },
 "nbformat": 4,
 "nbformat_minor": 2
}
